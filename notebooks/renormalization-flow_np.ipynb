{
 "cells": [
  {
   "cell_type": "code",
   "execution_count": null,
   "id": "48c453c0-c7f5-4f6e-8bfa-edf1342eeb75",
   "metadata": {},
   "outputs": [],
   "source": [
    "import numpy as np\n",
    "import matplotlib.pyplot as plt\n",
    "\n",
    "import sys\n",
    "import os\n",
    "sys.path.append(os.path.abspath(os.path.join(os.getcwd(), '..')))\n",
    "from lib.renormalization_np import *"
   ]
  },
  {
   "cell_type": "markdown",
   "id": "b42ecbeb-e855-4fc5-b056-a3d751b1aa7d",
   "metadata": {},
   "source": [
    "# Initial setup"
   ]
  },
  {
   "cell_type": "code",
   "execution_count": null,
   "id": "e78d1c36-fc6f-43f7-94fe-afae5409d289",
   "metadata": {
    "scrolled": true
   },
   "outputs": [],
   "source": [
    "J1 =2\n",
    "J2 = 2\n",
    "M = 0\n",
    "\n",
    "n_max = 5\n",
    "\n",
    "lambda_nm = get_initial_coefficients(J1, J2, M, n_max)\n",
    "lambda_nm"
   ]
  },
  {
   "cell_type": "markdown",
   "id": "d497cba6-ac44-43ac-b88b-214621aa6fe8",
   "metadata": {},
   "source": [
    "# RG Flow"
   ]
  },
  {
   "cell_type": "code",
   "execution_count": null,
   "id": "c6e84fab-8a11-46ae-a759-4b83e9ec347b",
   "metadata": {},
   "outputs": [],
   "source": [
    "J1=-2\n",
    "J2=2\n",
    "M=1\n",
    "\n",
    "b = 3\n",
    "d = 2\n",
    "\n",
    "n_max = 20\n",
    "n_steps = 10\n",
    "\n",
    "# Track RG flow\n",
    "flow_history = track_rg_flow(J1, J2, M, b, d, n_max, n_steps)\n",
    "\n",
    "print(f\"J1 = {J1}, J2 = {J2}, M = {M}\\n\")\n",
    "coefficient_sink(flow_history, rg_step=-1)\n",
    "\n",
    "# Coefficient evolution\n",
    "fig = plot_coefficient_evolution(flow_history, J1, J2, M)\n",
    "plt.savefig(f\"coefficient_evolution_J{J1}M{M}.png\")\n",
    "plt.show()"
   ]
  },
  {
   "cell_type": "markdown",
   "id": "3b40a8d9-1716-48aa-9a81-618bcb0cc68e",
   "metadata": {},
   "source": [
    "## Coefficient matrix"
   ]
  },
  {
   "cell_type": "code",
   "execution_count": null,
   "id": "84ad914a-f094-4ac0-bde4-8c445a5a2506",
   "metadata": {
    "scrolled": true
   },
   "outputs": [],
   "source": [
    "print(f\"J1 = J2 = {J1}, M = {M}\")\n",
    "display_coefficient_matrix(flow_history, -1, decimals=3)"
   ]
  },
  {
   "cell_type": "code",
   "execution_count": null,
   "id": "a6012ce6-b573-46ba-b1cb-0787605dc301",
   "metadata": {},
   "outputs": [],
   "source": [
    "display_coefficient_matrix_colormap(flow_history[-1], decimals=4, component='real',\n",
    "                                   save_path=f\"coefficient_matrix_J{J1}M{M}.png\")"
   ]
  },
  {
   "cell_type": "code",
   "execution_count": null,
   "id": "2b8b945b-18f1-48df-9287-63f7e849e262",
   "metadata": {},
   "outputs": [],
   "source": [
    "coeff_indices = [(0,0), (1,0), (0,1), (1,1), (2,0), (0,2), (2,2)]\n",
    "\n",
    "step = 9\n",
    "\n",
    "print(\"(n,m)\\n\")\n",
    "for n, m in coeff_indices:\n",
    "    n_idx = n + n_max\n",
    "    m_idx = m + n_max\n",
    "    #values = [np.abs(flow_history[step, n_idx, m_idx]) for step in range(n_steps)]\n",
    "    #print(f'({n},{m}) = {flow_history[step, n_idx, m_idx]}')\n",
    "    print(f'({n},{m}) = {round(flow_history[step, n_idx, m_idx].real, 5)}')"
   ]
  },
  {
   "cell_type": "markdown",
   "id": "11963fe7-147a-4a48-9211-d145a6c94c0c",
   "metadata": {},
   "source": [
    "# Potential Evolution"
   ]
  },
  {
   "cell_type": "code",
   "execution_count": null,
   "id": "9380bdfb-055d-41c7-ae2a-026beda0f474",
   "metadata": {},
   "outputs": [],
   "source": [
    "J1 = J2 = 0\n",
    "M = -2\n",
    "\n",
    "b = 3\n",
    "d = 2\n",
    "\n",
    "n_max = 20\n",
    "n_steps = 10\n",
    "\n",
    "# Track RG flow\n",
    "flow_history = track_rg_flow(J1, J2, M, b, d, n_max, n_steps)\n",
    "\n",
    "# Potential evolution\n",
    "fig = plot_evolution(flow_history, J1, J2, M)\n",
    "plt.show()\n",
    "\n",
    "folder = \"/Users/artun/Documents/Research/PhD Research/Projects/Continous Ashkin-Teller/ashkin-teller/figures/\"\n",
    "#fig.savefig(folder + f\"potential_evolution_J{J1}M{M}.png\")"
   ]
  }
 ],
 "metadata": {
  "kernelspec": {
   "display_name": "Python [conda env:continous-ashkin-teller]",
   "language": "python",
   "name": "conda-env-continous-ashkin-teller-py"
  },
  "language_info": {
   "codemirror_mode": {
    "name": "ipython",
    "version": 3
   },
   "file_extension": ".py",
   "mimetype": "text/x-python",
   "name": "python",
   "nbconvert_exporter": "python",
   "pygments_lexer": "ipython3",
   "version": "3.12.7"
  }
 },
 "nbformat": 4,
 "nbformat_minor": 5
}
