{
 "cells": [
  {
   "cell_type": "code",
   "execution_count": 2,
   "id": "48c453c0-c7f5-4f6e-8bfa-edf1342eeb75",
   "metadata": {},
   "outputs": [],
   "source": [
    "import numpy as np\n",
    "from mpmath import mp\n",
    "import matplotlib.pyplot as plt\n",
    "\n",
    "from tqdm import tqdm\n",
    "\n",
    "from renormalization import *"
   ]
  },
  {
   "cell_type": "code",
   "execution_count": 104,
   "id": "4108d578-bc3a-46b9-bc71-8db419de2625",
   "metadata": {},
   "outputs": [],
   "source": [
    "def identify_phase(J, M, n_max=10, n_rg_steps=20, b=3, d=2):\n",
    "    \"\"\"\n",
    "    Identify phase based on coefficient patterns\n",
    "    \"\"\"\n",
    "    e = 1e-5\n",
    "    lambda_nm = get_initial_coefficients(J, M, n_max)\n",
    "           \n",
    "    # Perform RG flow\n",
    "    for _ in range(n_rg_steps):\n",
    "        lambda_nm = rg_step(lambda_nm, b, d)\n",
    "   \n",
    "    # Extract normalized coefficients \n",
    "    #coeff_00 = float(lambda_nm[n_max, n_max].real)\n",
    "    coeff_10 = float(lambda_nm[n_max+1, n_max].real)\n",
    "    coeff_01 = float(lambda_nm[n_max, n_max+1].real)\n",
    "    coeff_11 = float(lambda_nm[n_max+1, n_max+1].real)\n",
    "    coeff_20 = float(lambda_nm[n_max+2, n_max].real)\n",
    "    coeff_02 = float(lambda_nm[n_max, n_max+2].real)\n",
    "    coeff_22 = float(lambda_nm[n_max+2, n_max+2].real)\n",
    "   \n",
    "    # Phase conditions\n",
    "    if (abs(coeff_10) < e and # (1,0) = 0\n",
    "        abs(coeff_01) < e and # (0,1) = 0\n",
    "        abs(coeff_11) < e and # (1,1) = 0\n",
    "        abs(coeff_20) < e and # (2,0) = 0\n",
    "        abs(coeff_02) < e and # (0,2) = 0\n",
    "        abs(coeff_22) < e):   # (2,2) = 0\n",
    "        return \"D_Phase\" # Disordered\n",
    "\n",
    "    elif (coeff_10 > e and # (1,0) > 0\n",
    "          coeff_01 > e and # (0,1) > 0\n",
    "          coeff_11 > e and # (1,1) > 0\n",
    "          coeff_20 > e and # (2,0) > 0\n",
    "          coeff_02 > e and # (0,2) > 0\n",
    "          coeff_22 > e):   # (2,2) > 0\n",
    "        return \"A_Phase\" # \n",
    "\n",
    "    elif (abs(coeff_10) < e and # (1,0) = 0\n",
    "          abs(coeff_01) < e and # (0,1) = 0\n",
    "          coeff_11 < -e and     # (1,1) < 0\n",
    "          coeff_20 > e and      # (2,0) > 0\n",
    "          coeff_02 > e and      # (0,2) > 0\n",
    "          coeff_22 > e):        # (2,2) > 0\n",
    "        return \"B_Phase\" # \n",
    "\n",
    "    elif (coeff_10 < -e and # (1,0) < 0\n",
    "          coeff_01 < -e and # (0,1) < 0\n",
    "          coeff_11 > e and  # (1,1) > 0\n",
    "          coeff_20 > e and  # (2,0) > 0\n",
    "          coeff_02 > e and  # (0,2) > 0\n",
    "          coeff_22 > e):    # (2,2) > 0\n",
    "        return \"C_Phase\" # \n",
    "\n",
    "    else:\n",
    "        return \"X_Phase\"\n",
    "\n",
    "def generate_phase_diagram(J_values, M_values, n_max=10, n_rg_steps=20, b=3, d=2):\n",
    "    \"\"\"\n",
    "    Generate phase diagram by scanning J, M parameter space\n",
    "    \"\"\"\n",
    "    D_Phase, A_Phase, B_Phase, C_Phase, X_Phase, U_Phase = [],[],[],[],[],[]\n",
    "\n",
    "    for i, J in enumerate(tqdm(J_values)):\n",
    "        for j, M in enumerate(M_values):\n",
    "            phase = identify_phase(J, M, n_max=10, n_rg_steps=20, b=3, d=2)\n",
    "\n",
    "            if   phase == \"D_Phase\":\n",
    "                 D_Phase.append([J, M])\n",
    "            elif phase == \"A_Phase\":\n",
    "                 A_Phase.append([J, M])\n",
    "            elif phase == \"B_Phase\":\n",
    "                 B_Phase.append([J, M])\n",
    "            elif phase == \"C_Phase\":\n",
    "                 C_Phase.append([J, M])\n",
    "            elif phase == \"X_Phase\":\n",
    "                 X_Phase.append([J, M])\n",
    "            else:\n",
    "                 U_Phase.append([J, M])\n",
    "\n",
    "    # Plot the results\n",
    "    fig, ax = plt.subplots(nrows=1, ncols=1, figsize=(6, 6), dpi=100)\n",
    "    fig.set_facecolor(\"white\")\n",
    "    plt.rc(group=\"font\", family=\"Arial\", weight=\"bold\", size=10)\n",
    "    plt.rc(group=\"lines\", linewidth=1)\n",
    "    plt.rc(group=\"axes\", linewidth=2)\n",
    "\n",
    "    cdic = {\"D_Phase\":\"grey\",\n",
    "            \"A_Phase\":\"blue\",\n",
    "            \"B_Phase\":\"red\",\n",
    "            \"C_Phase\":\"pink\",\n",
    "            \n",
    "            \"X_Phase\":\"black\",\n",
    "            \"U_Phase\":\"yellow\"}\n",
    "    \n",
    "    ms = 4\n",
    "    if D_Phase: ax.plot(np.array(D_Phase)[:,0], np.array(D_Phase)[:,1], ls=\"\", marker=\"s\", mfc=cdic[\"D_Phase\"], mec=cdic[\"D_Phase\"], ms=ms, alpha=1)\n",
    "    if A_Phase: ax.plot(np.array(A_Phase)[:,0], np.array(A_Phase)[:,1], ls=\"\", marker=\"s\", mfc=cdic[\"A_Phase\"], mec=cdic[\"A_Phase\"], ms=ms, alpha=1)\n",
    "    if B_Phase: ax.plot(np.array(B_Phase)[:,0], np.array(B_Phase)[:,1], ls=\"\", marker=\"s\", mfc=cdic[\"B_Phase\"], mec=cdic[\"B_Phase\"], ms=ms, alpha=1)\n",
    "    if C_Phase: ax.plot(np.array(C_Phase)[:,0], np.array(C_Phase)[:,1], ls=\"\", marker=\"s\", mfc=cdic[\"C_Phase\"], mec=cdic[\"C_Phase\"], ms=ms, alpha=1)\n",
    "    if X_Phase: ax.plot(np.array(X_Phase)[:,0], np.array(X_Phase)[:,1], ls=\"\", marker=\"s\", mfc=cdic[\"X_Phase\"], mec=cdic[\"X_Phase\"], ms=ms, alpha=1)\n",
    "    if U_Phase: ax.plot(np.array(U_Phase)[:,0], np.array(U_Phase)[:,1], ls=\"\", marker=\"s\", mfc=cdic[\"U_Phase\"], mec=cdic[\"U_Phase\"], ms=ms, alpha=1)\n",
    "    \n",
    "    ax.set_xlabel(\"J\")\n",
    "    ax.set_ylabel(\"M\")\n",
    "    ax.tick_params(axis=\"both\", direction=\"in\", width=2, length=4)\n",
    "    fig.tight_layout()\n",
    "    plt.show()\n",
    "                \n",
    "    return D_Phase, A_Phase, B_Phase, C_Phase, X_Phase, U_Phase\n",
    "\n",
    "def generate_phase_diagram_inverse(inv_J_values, inv_M_values, n_max=10, n_rg_steps=20, b=3, d=2):\n",
    "    \"\"\"\n",
    "    Generate phase diagram by scanning 1/J, 1/M parameter space\n",
    "    \"\"\"\n",
    "    D_Phase, A_Phase, B_Phase, C_Phase, X_Phase, U_Phase = [],[],[],[],[],[]\n",
    "\n",
    "    for i, inv_J in enumerate(tqdm(inv_J_values)):\n",
    "        for j, inv_M in enumerate(inv_M_values):\n",
    "            J = 1 / inv_J\n",
    "            M = 1 / inv_M\n",
    "            phase = identify_phase(J, M, n_max=10, n_rg_steps=20, b=3, d=2)\n",
    "\n",
    "            if   phase == \"D_Phase\":\n",
    "                 D_Phase.append([inv_J, inv_M])\n",
    "            elif phase == \"A_Phase\":\n",
    "                 A_Phase.append([inv_J, inv_M])\n",
    "            elif phase == \"B_Phase\":\n",
    "                 B_Phase.append([inv_J, inv_M])\n",
    "            elif phase == \"C_Phase\":\n",
    "                 C_Phase.append([inv_J, inv_M])\n",
    "            elif phase == \"X_Phase\":\n",
    "                 X_Phase.append([inv_J, inv_M])\n",
    "            else:\n",
    "                 U_Phase.append([inv_J, inv_M])\n",
    "\n",
    "    # Plot the results\n",
    "    fig, ax = plt.subplots(nrows=1, ncols=1, figsize=(6, 6), dpi=100)\n",
    "    fig.set_facecolor(\"white\")\n",
    "    plt.rc(group=\"font\", family=\"Arial\", weight=\"bold\", size=10)\n",
    "    plt.rc(group=\"lines\", linewidth=1)\n",
    "    plt.rc(group=\"axes\", linewidth=2)\n",
    "\n",
    "    cdic = {\"D_Phase\":\"grey\",\n",
    "            \"A_Phase\":\"blue\",\n",
    "            \"B_Phase\":\"red\",\n",
    "            \"C_Phase\":\"pink\",\n",
    "            \n",
    "            \"X_Phase\":\"black\",\n",
    "            \"U_Phase\":\"yellow\"}\n",
    "    \n",
    "    ms = 4\n",
    "    if D_Phase: ax.plot(np.array(D_Phase)[:,0], np.array(D_Phase)[:,1], ls=\"\", marker=\"s\", mfc=cdic[\"D_Phase\"], mec=cdic[\"D_Phase\"], ms=ms, alpha=1)\n",
    "    if A_Phase: ax.plot(np.array(A_Phase)[:,0], np.array(A_Phase)[:,1], ls=\"\", marker=\"s\", mfc=cdic[\"A_Phase\"], mec=cdic[\"A_Phase\"], ms=ms, alpha=1)\n",
    "    if B_Phase: ax.plot(np.array(B_Phase)[:,0], np.array(B_Phase)[:,1], ls=\"\", marker=\"s\", mfc=cdic[\"B_Phase\"], mec=cdic[\"B_Phase\"], ms=ms, alpha=1)\n",
    "    if C_Phase: ax.plot(np.array(C_Phase)[:,0], np.array(C_Phase)[:,1], ls=\"\", marker=\"s\", mfc=cdic[\"C_Phase\"], mec=cdic[\"C_Phase\"], ms=ms, alpha=1)\n",
    "    if X_Phase: ax.plot(np.array(X_Phase)[:,0], np.array(X_Phase)[:,1], ls=\"\", marker=\"s\", mfc=cdic[\"X_Phase\"], mec=cdic[\"X_Phase\"], ms=ms, alpha=1)\n",
    "    if U_Phase: ax.plot(np.array(U_Phase)[:,0], np.array(U_Phase)[:,1], ls=\"\", marker=\"s\", mfc=cdic[\"U_Phase\"], mec=cdic[\"U_Phase\"], ms=ms, alpha=1)\n",
    "    \n",
    "    ax.set_xlabel(\"1/J\")\n",
    "    ax.set_ylabel(\"1/M\")\n",
    "    ax.tick_params(axis=\"both\", direction=\"in\", width=2, length=4)\n",
    "    fig.tight_layout()\n",
    "    plt.show()\n",
    "                \n",
    "    return D_Phase, A_Phase, B_Phase, C_Phase, X_Phase, U_Phase"
   ]
  },
  {
   "cell_type": "markdown",
   "id": "d39a13bc-a106-4bb9-a3fb-ac0990da8c7a",
   "metadata": {},
   "source": [
    "# J vs. M"
   ]
  },
  {
   "cell_type": "code",
   "execution_count": 72,
   "id": "3e4b9374-b5d7-4e68-ae1c-a7343693f53c",
   "metadata": {},
   "outputs": [],
   "source": [
    "# Precision\n",
    "mp.dps = 30"
   ]
  },
  {
   "cell_type": "code",
   "execution_count": 78,
   "id": "0ecf185d-6a99-4dd2-acd3-3af60155ebed",
   "metadata": {},
   "outputs": [
    {
     "data": {
      "text/plain": [
       "array([-10.        ,  -8.18181818,  -6.36363636,  -4.54545455,\n",
       "        -2.72727273,  -0.90909091,   0.90909091,   2.72727273,\n",
       "         4.54545455,   6.36363636,   8.18181818,  10.        ])"
      ]
     },
     "execution_count": 78,
     "metadata": {},
     "output_type": "execute_result"
    }
   ],
   "source": [
    "np.linspace(start=-10, stop=10, num=12)"
   ]
  },
  {
   "cell_type": "code",
   "execution_count": null,
   "id": "d30eb818-415f-44cd-96f4-e75ce2911036",
   "metadata": {},
   "outputs": [
    {
     "name": "stderr",
     "output_type": "stream",
     "text": [
      " 55%|█████▍    | 23/42 [10:22:26<10:18:10, 1952.15s/it]"
     ]
    }
   ],
   "source": [
    "n_points = 42\n",
    "J_values = np.linspace(start=-3, stop=3, num=n_points)\n",
    "M_values = np.linspace(start=-5, stop=3, num=n_points)\n",
    "\n",
    "D_Phase, A_Phase, B_Phase, C_Phase, X_Phase, U_Phase = generate_phase_diagram(\n",
    "    J_values,\n",
    "    M_values,\n",
    "    n_max = 10,\n",
    "    n_rg_steps=30,\n",
    "    b = 3,\n",
    "    d = 2)"
   ]
  },
  {
   "cell_type": "code",
   "execution_count": 111,
   "id": "361261fb-1034-4858-8101-8322f1eba0ac",
   "metadata": {},
   "outputs": [
    {
     "data": {
      "text/plain": [
       "array([-3.        , -2.45454545, -1.90909091, -1.36363636, -0.81818182,\n",
       "       -0.27272727,  0.27272727,  0.81818182,  1.36363636,  1.90909091,\n",
       "        2.45454545,  3.        ])"
      ]
     },
     "execution_count": 111,
     "metadata": {},
     "output_type": "execute_result"
    }
   ],
   "source": [
    "J_values"
   ]
  },
  {
   "cell_type": "code",
   "execution_count": 114,
   "id": "fb8af7df-12b9-4394-8109-7053948b72fc",
   "metadata": {},
   "outputs": [
    {
     "data": {
      "text/plain": [
       "array([-3.        , -2.45454545, -1.90909091, -1.36363636, -0.81818182,\n",
       "       -0.27272727,  0.27272727,  0.81818182,  1.36363636,  1.90909091,\n",
       "        2.45454545,  3.        ])"
      ]
     },
     "execution_count": 114,
     "metadata": {},
     "output_type": "execute_result"
    }
   ],
   "source": [
    "M_values"
   ]
  },
  {
   "cell_type": "code",
   "execution_count": 108,
   "id": "8712e49a-c0a0-43b8-bbd4-935611d25cde",
   "metadata": {},
   "outputs": [
    {
     "data": {
      "image/png": "[encoded data removed]",
      "text/plain": [
       "<Figure size 600x600 with 1 Axes>"
      ]
     },
     "metadata": {},
     "output_type": "display_data"
    }
   ],
   "source": [
    "# Plot the results\n",
    "fig, ax = plt.subplots(nrows=1, ncols=1, figsize=(6, 6), dpi=100)\n",
    "fig.set_facecolor(\"white\")\n",
    "plt.rc(group=\"font\", family=\"Arial\", weight=\"bold\", size=10)\n",
    "plt.rc(group=\"lines\", linewidth=1)\n",
    "plt.rc(group=\"axes\", linewidth=2)\n",
    "\n",
    "cdic = {\"D_Phase\":\"grey\",\n",
    "        \"A_Phase\":\"blue\",\n",
    "        \"B_Phase\":\"red\",\n",
    "        \"C_Phase\":\"pink\",\n",
    "        \n",
    "        \"X_Phase\":\"black\",\n",
    "        \"U_Phase\":\"yellow\"}\n",
    "\n",
    "ms = 14\n",
    "if D_Phase: ax.plot(np.array(D_Phase)[:,0], np.array(D_Phase)[:,1], ls=\"\", marker=\"s\", mfc=cdic[\"D_Phase\"], mec=cdic[\"D_Phase\"], ms=ms, alpha=1)\n",
    "if A_Phase: ax.plot(np.array(A_Phase)[:,0], np.array(A_Phase)[:,1], ls=\"\", marker=\"s\", mfc=cdic[\"A_Phase\"], mec=cdic[\"A_Phase\"], ms=ms, alpha=1)\n",
    "if B_Phase: ax.plot(np.array(B_Phase)[:,0], np.array(B_Phase)[:,1], ls=\"\", marker=\"s\", mfc=cdic[\"B_Phase\"], mec=cdic[\"B_Phase\"], ms=ms, alpha=1)\n",
    "if C_Phase: ax.plot(np.array(C_Phase)[:,0], np.array(C_Phase)[:,1], ls=\"\", marker=\"s\", mfc=cdic[\"C_Phase\"], mec=cdic[\"C_Phase\"], ms=ms, alpha=1)\n",
    "if X_Phase: ax.plot(np.array(X_Phase)[:,0], np.array(X_Phase)[:,1], ls=\"\", marker=\"s\", mfc=cdic[\"X_Phase\"], mec=cdic[\"X_Phase\"], ms=ms, alpha=1)\n",
    "if U_Phase: ax.plot(np.array(U_Phase)[:,0], np.array(U_Phase)[:,1], ls=\"\", marker=\"s\", mfc=cdic[\"U_Phase\"], mec=cdic[\"U_Phase\"], ms=ms, alpha=1)\n",
    "\n",
    "ax.set_xlabel(\"J\")\n",
    "ax.set_ylabel(\"M\")\n",
    "ax.tick_params(axis=\"both\", direction=\"in\", width=2, length=4)\n",
    "fig.tight_layout()\n",
    "plt.show()"
   ]
  },
  {
   "cell_type": "markdown",
   "id": "12a869c8-74e1-4e1e-adc8-099c8a2960d7",
   "metadata": {},
   "source": [
    "# 1/J vs 1/M"
   ]
  },
  {
   "cell_type": "code",
   "execution_count": 39,
   "id": "313c1946-9a7f-4fea-8f47-71d06e4af51c",
   "metadata": {},
   "outputs": [],
   "source": [
    "# Precision\n",
    "mp.dps = 50"
   ]
  },
  {
   "cell_type": "code",
   "execution_count": 27,
   "id": "5a6a7bc0-3953-4401-8c7b-dfa25e4812f9",
   "metadata": {},
   "outputs": [
    {
     "name": "stderr",
     "output_type": "stream",
     "text": [
      "  0%|          | 0/11 [00:00<?, ?it/s]/var/folders/56/k5k1hn6s4pd9x__t6s6fpclr0000gn/T/ipykernel_21326/1514216635.py:94: RuntimeWarning: divide by zero encountered in scalar divide\n",
      "  M = 1 / inv_M\n",
      "/Users/artun/Documents/Research/PhD Research/Projects/Continous Ashkin-Teller/ashkin-teller/renormalization.py:38: RuntimeWarning: invalid value encountered in multiply\n",
      "  integrand = u * np.exp(-1j*(n*THETA + m*PHI))\n",
      "/Users/artun/anaconda3/envs/continous-ashkin-teller/lib/python3.12/site-packages/numpy/core/fromnumeric.py:88: RuntimeWarning: invalid value encountered in reduce\n",
      "  return ufunc.reduce(obj, axis, dtype, out, **passkwargs)\n",
      "/Users/artun/Documents/Research/PhD Research/Projects/Continous Ashkin-Teller/ashkin-teller/renormalization.py:41: RuntimeWarning: invalid value encountered in scalar multiply\n",
      "  lambda_nm[n_idx, m_idx] = np.sum(integrand) * dtheta * dphi / (4*np.pi**2)\n",
      "/Users/artun/Documents/Research/PhD Research/Projects/Continous Ashkin-Teller/ashkin-teller/renormalization.py:44: RuntimeWarning: invalid value encountered in divide\n",
      "  lambda_nm = lambda_nm / np.max(np.abs(lambda_nm))\n",
      " 45%|████▌     | 5/11 [15:44<18:45, 187.56s/it]/var/folders/56/k5k1hn6s4pd9x__t6s6fpclr0000gn/T/ipykernel_21326/1514216635.py:93: RuntimeWarning: divide by zero encountered in scalar divide\n",
      "  J = 1 / inv_J\n",
      "/Users/artun/Documents/Research/PhD Research/Projects/Continous Ashkin-Teller/ashkin-teller/renormalization.py:25: RuntimeWarning: invalid value encountered in add\n",
      "  u = np.exp(J*(np.cos(THETA) + np.cos(PHI)) + M*np.cos(THETA)*np.cos(PHI))\n",
      "100%|██████████| 11/11 [32:26<00:00, 177.00s/it]\n"
     ]
    },
    {
     "data": {
      "image/png": "[encoded data removed]",
      "text/plain": [
       "<Figure size 600x600 with 1 Axes>"
      ]
     },
     "metadata": {},
     "output_type": "display_data"
    }
   ],
   "source": [
    "n_points = 11\n",
    "inv_J_values = np.linspace(start=-5, stop=5, num=n_points)\n",
    "inv_M_values = np.linspace(start=-5, stop=5, num=n_points)\n",
    "\n",
    "Disordered, A_Phase, B_Phase, X_Phase, undetermined = generate_phase_diagram_inverse(\n",
    "    inv_J_values,\n",
    "    inv_M_values,\n",
    "    n_max = 5,\n",
    "    b = 3,\n",
    "    d = 2)"
   ]
  },
  {
   "cell_type": "code",
   "execution_count": 33,
   "id": "55705a1c-207d-4f1f-a1c4-8e0b02d9cfa9",
   "metadata": {},
   "outputs": [
    {
     "data": {
      "image/png": "[encoded data removed]",
      "text/plain": [
       "<Figure size 600x600 with 1 Axes>"
      ]
     },
     "metadata": {},
     "output_type": "display_data"
    }
   ],
   "source": [
    "# Plot the results\n",
    "fig, ax = plt.subplots(nrows=1, ncols=1, figsize=(6, 6), dpi=100)\n",
    "fig.set_facecolor(\"white\")\n",
    "plt.rc(group=\"font\", family=\"Arial\", weight=\"bold\", size=10)\n",
    "plt.rc(group=\"lines\", linewidth=1)\n",
    "plt.rc(group=\"axes\", linewidth=2)\n",
    "\n",
    "cdic = {\"Disordered\":\"grey\",\n",
    "        \"A_Phase\":\"dodgerblue\",\n",
    "        \"B_Phase\":\"crimson\",\n",
    "        \n",
    "        \"X_Phase\":\"black\",\n",
    "        \"undetermined\":\"yellow\"}\n",
    "\n",
    "ms = 10\n",
    "if Disordered: ax.plot(np.array(Disordered)[:,0], np.array(Disordered)[:,1], ls=\"\", marker=\"s\", mfc=cdic[\"Disordered\"], mec=cdic[\"Disordered\"], ms=ms, alpha=1)\n",
    "if A_Phase: ax.plot(np.array(A_Phase)[:,0], np.array(A_Phase)[:,1], ls=\"\", marker=\"s\", mfc=cdic[\"A_Phase\"], mec=cdic[\"A_Phase\"], ms=ms, alpha=1)\n",
    "if B_Phase: ax.plot(np.array(B_Phase)[:,0], np.array(B_Phase)[:,1], ls=\"\", marker=\"s\", mfc=cdic[\"B_Phase\"], mec=cdic[\"B_Phase\"], ms=ms, alpha=1)\n",
    "if X_Phase: ax.plot(np.array(X_Phase)[:,0], np.array(X_Phase)[:,1], ls=\"\", marker=\"s\", mfc=cdic[\"X_Phase\"], mec=cdic[\"X_Phase\"], ms=ms, alpha=1)\n",
    "if undetermined: ax.plot(np.array(undetermined)[:,0], np.array(undetermined)[:,1], ls=\"\", marker=\"s\", mfc=cdic[\"undetermined\"], mec=cdic[\"undetermined\"], ms=ms, alpha=1)\n",
    "\n",
    "ax.set_xlabel(\"1/J\")\n",
    "ax.set_ylabel(\"1/M\")\n",
    "ax.tick_params(axis=\"both\", direction=\"in\", width=2, length=4)\n",
    "fig.tight_layout()\n",
    "plt.show()"
   ]
  }
 ],
 "metadata": {
  "kernelspec": {
   "display_name": "Python 3 (ipykernel)",
   "language": "python",
   "name": "python3"
  },
  "language_info": {
   "codemirror_mode": {
    "name": "ipython",
    "version": 3
   },
   "file_extension": ".py",
   "mimetype": "text/x-python",
   "name": "python",
   "nbconvert_exporter": "python",
   "pygments_lexer": "ipython3",
   "version": "3.12.7"
  }
 },
 "nbformat": 4,
 "nbformat_minor": 5
}
