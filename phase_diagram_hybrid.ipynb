{
 "cells": [
  {
   "cell_type": "code",
   "execution_count": 5,
   "id": "5e1cd8c5-e20c-44ea-ad83-17eca8530895",
   "metadata": {},
   "outputs": [],
   "source": [
    "import numpy as np\n",
    "from mpmath import mp\n",
    "import matplotlib.pyplot as plt\n",
    "\n",
    "from phase_hybrid import *"
   ]
  },
  {
   "cell_type": "markdown",
   "id": "58bf8d9d-7a81-4b42-8c45-81b35d88a418",
   "metadata": {},
   "source": [
    "# J vs. M"
   ]
  },
  {
   "cell_type": "code",
   "execution_count": 10,
   "id": "56f38108-80ee-4495-99fd-d0e2c0e7bbc9",
   "metadata": {
    "scrolled": true
   },
   "outputs": [
    {
     "name": "stdout",
     "output_type": "stream",
     "text": [
      "Progress: 100/144 points processed (69.4%)\n"
     ]
    },
    {
     "ename": "NameError",
     "evalue": "name 'plt' is not defined",
     "output_type": "error",
     "traceback": [
      "\u001b[0;31m---------------------------------------------------------------------------\u001b[0m",
      "\u001b[0;31mNameError\u001b[0m                                 Traceback (most recent call last)",
      "Cell \u001b[0;32mIn[10], line 7\u001b[0m\n\u001b[1;32m      4\u001b[0m M_values \u001b[38;5;241m=\u001b[39m np\u001b[38;5;241m.\u001b[39mlinspace(start\u001b[38;5;241m=\u001b[39m\u001b[38;5;241m-\u001b[39m\u001b[38;5;241m5\u001b[39m, stop\u001b[38;5;241m=\u001b[39m\u001b[38;5;241m5\u001b[39m, num\u001b[38;5;241m=\u001b[39mn_points)\n\u001b[1;32m      6\u001b[0m \u001b[38;5;66;03m# Generate the phase diagram using the hybrid approach\u001b[39;00m\n\u001b[0;32m----> 7\u001b[0m D_Phase, A_Phase, B_Phase, C_Phase, X_Phase, U_Phase \u001b[38;5;241m=\u001b[39m generate_phase_diagram_hybrid(\n\u001b[1;32m      8\u001b[0m     J_values,\n\u001b[1;32m      9\u001b[0m     M_values,\n\u001b[1;32m     10\u001b[0m     n_max_np\u001b[38;5;241m=\u001b[39m\u001b[38;5;241m20\u001b[39m,\n\u001b[1;32m     11\u001b[0m     n_max_mp\u001b[38;5;241m=\u001b[39m\u001b[38;5;241m10\u001b[39m,\n\u001b[1;32m     12\u001b[0m     n_rg_steps\u001b[38;5;241m=\u001b[39m\u001b[38;5;241m45\u001b[39m,\n\u001b[1;32m     13\u001b[0m     b\u001b[38;5;241m=\u001b[39m\u001b[38;5;241m3\u001b[39m,\n\u001b[1;32m     14\u001b[0m     d\u001b[38;5;241m=\u001b[39m\u001b[38;5;241m2\u001b[39m,\n\u001b[1;32m     15\u001b[0m     dps\u001b[38;5;241m=\u001b[39m\u001b[38;5;241m50\u001b[39m,\n\u001b[1;32m     16\u001b[0m     path\u001b[38;5;241m=\u001b[39m\u001b[38;5;124mf\u001b[39m\u001b[38;5;124m\"\u001b[39m\u001b[38;5;124miCloud/Documents/Research/PhD Research/Projects/Continous Ashkin-Teller/ashkin-teller/phase_diagram_JM_\u001b[39m\u001b[38;5;132;01m{\u001b[39;00mn_points\u001b[38;5;132;01m}\u001b[39;00m\u001b[38;5;124m\"\u001b[39m)\n",
      "File \u001b[0;32m~/Library/Mobile Documents/com~apple~CloudDocs/Documents/Research/PhD Research/Projects/Continous Ashkin-Teller/ashkin-teller/phase_hybrid.py:95\u001b[0m, in \u001b[0;36mgenerate_phase_diagram_hybrid\u001b[0;34m(J_values, M_values, n_max_np, n_max_mp, n_rg_steps, b, d, dps, path)\u001b[0m\n\u001b[1;32m     92\u001b[0m ms \u001b[38;5;241m=\u001b[39m \u001b[38;5;28mmax\u001b[39m(\u001b[38;5;241m1\u001b[39m, \u001b[38;5;28mmin\u001b[39m(ms, \u001b[38;5;241m12\u001b[39m))  \u001b[38;5;66;03m# Limit between 1 and 12\u001b[39;00m\n\u001b[1;32m     94\u001b[0m \u001b[38;5;66;03m# Plot the results\u001b[39;00m\n\u001b[0;32m---> 95\u001b[0m fig, ax \u001b[38;5;241m=\u001b[39m plt\u001b[38;5;241m.\u001b[39msubplots(nrows\u001b[38;5;241m=\u001b[39m\u001b[38;5;241m1\u001b[39m, ncols\u001b[38;5;241m=\u001b[39m\u001b[38;5;241m1\u001b[39m, figsize\u001b[38;5;241m=\u001b[39m(\u001b[38;5;241m6\u001b[39m, \u001b[38;5;241m6\u001b[39m), dpi\u001b[38;5;241m=\u001b[39m\u001b[38;5;241m100\u001b[39m)\n\u001b[1;32m     96\u001b[0m fig\u001b[38;5;241m.\u001b[39mset_facecolor(\u001b[38;5;124m\"\u001b[39m\u001b[38;5;124mwhite\u001b[39m\u001b[38;5;124m\"\u001b[39m)\n\u001b[1;32m     97\u001b[0m plt\u001b[38;5;241m.\u001b[39mrc(group\u001b[38;5;241m=\u001b[39m\u001b[38;5;124m\"\u001b[39m\u001b[38;5;124mfont\u001b[39m\u001b[38;5;124m\"\u001b[39m, family\u001b[38;5;241m=\u001b[39m\u001b[38;5;124m\"\u001b[39m\u001b[38;5;124mArial\u001b[39m\u001b[38;5;124m\"\u001b[39m, weight\u001b[38;5;241m=\u001b[39m\u001b[38;5;124m\"\u001b[39m\u001b[38;5;124mbold\u001b[39m\u001b[38;5;124m\"\u001b[39m, size\u001b[38;5;241m=\u001b[39m\u001b[38;5;241m10\u001b[39m)\n",
      "\u001b[0;31mNameError\u001b[0m: name 'plt' is not defined"
     ]
    }
   ],
   "source": [
    "# Define parameter ranges\n",
    "n_points = 12\n",
    "J_values = np.linspace(start=-5, stop=5, num=n_points)\n",
    "M_values = np.linspace(start=-5, stop=5, num=n_points)\n",
    "\n",
    "# Generate the phase diagram using the hybrid approach\n",
    "D_Phase, A_Phase, B_Phase, C_Phase, X_Phase, U_Phase = generate_phase_diagram_hybrid(\n",
    "    J_values,\n",
    "    M_values,\n",
    "    n_max_np=20,\n",
    "    n_max_mp=10,\n",
    "    n_rg_steps=45,\n",
    "    b=3,\n",
    "    d=2,\n",
    "    dps=50,\n",
    "    path=f\"iCloud/Documents/Research/PhD Research/Projects/Continous Ashkin-Teller/ashkin-teller/phase_diagram_JM_{n_points}\")"
   ]
  }
 ],
 "metadata": {
  "kernelspec": {
   "display_name": "Python [conda env:continous-ashkin-teller] *",
   "language": "python",
   "name": "conda-env-continous-ashkin-teller-py"
  },
  "language_info": {
   "codemirror_mode": {
    "name": "ipython",
    "version": 3
   },
   "file_extension": ".py",
   "mimetype": "text/x-python",
   "name": "python",
   "nbconvert_exporter": "python",
   "pygments_lexer": "ipython3",
   "version": "3.12.7"
  }
 },
 "nbformat": 4,
 "nbformat_minor": 5
}
